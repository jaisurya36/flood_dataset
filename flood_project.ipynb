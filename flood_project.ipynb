{
 "cells": [
  {
   "cell_type": "code",
   "execution_count": 3,
   "id": "edef7fe4",
   "metadata": {},
   "outputs": [
    {
     "name": "stdout",
     "output_type": "stream",
     "text": [
      "Dataset Info:\n",
      "<class 'pandas.core.frame.DataFrame'>\n",
      "RangeIndex: 1000 entries, 0 to 999\n",
      "Data columns (total 6 columns):\n",
      " #   Column              Non-Null Count  Dtype  \n",
      "---  ------              --------------  -----  \n",
      " 0   Rainfall_mm         1000 non-null   int64  \n",
      " 1   River_Level_m       1000 non-null   float64\n",
      " 2   Soil_Moisture_%     1000 non-null   float64\n",
      " 3   Temperature_C       1000 non-null   float64\n",
      " 4   Population_Density  1000 non-null   int64  \n",
      " 5   Flood               1000 non-null   int64  \n",
      "dtypes: float64(3), int64(3)\n",
      "memory usage: 47.0 KB\n",
      "None\n",
      "\n",
      "Dataset Summary:\n",
      "       Rainfall_mm  River_Level_m  Soil_Moisture_%  Temperature_C  \\\n",
      "count   1000.00000    1000.000000      1000.000000    1000.000000   \n",
      "mean     250.68300       7.457887        55.012419      27.520239   \n",
      "std      141.79995       4.365481        25.814015       7.262793   \n",
      "min        0.00000       0.069480        10.140859      15.000291   \n",
      "25%      133.75000       3.531597        33.165960      21.258504   \n",
      "50%      246.00000       7.474226        55.558357      27.674751   \n",
      "75%      373.00000      11.189210        77.168677      33.724459   \n",
      "max      499.00000      14.995765        99.851276      39.972315   \n",
      "\n",
      "       Population_Density       Flood  \n",
      "count         1000.000000  1000.00000  \n",
      "mean          4997.577000     0.62200  \n",
      "std           2907.181949     0.48513  \n",
      "min             61.000000     0.00000  \n",
      "25%           2394.000000     0.00000  \n",
      "50%           4929.500000     1.00000  \n",
      "75%           7529.250000     1.00000  \n",
      "max           9999.000000     1.00000  \n",
      "\n",
      "Missing Values:\n",
      "Rainfall_mm           0\n",
      "River_Level_m         0\n",
      "Soil_Moisture_%       0\n",
      "Temperature_C         0\n",
      "Population_Density    0\n",
      "Flood                 0\n",
      "dtype: int64\n"
     ]
    }
   ],
   "source": [
    "import pandas as pd\n",
    "\n",
    "# Load dataset (make sure flood_dataset.csv is in the same folder)\n",
    "df = pd.read_csv(\"flood_dataset.csv\")\n",
    "\n",
    "# Explore dataset\n",
    "print(\"Dataset Info:\")\n",
    "print(df.info())\n",
    "print(\"\\nDataset Summary:\")\n",
    "print(df.describe())\n",
    "print(\"\\nMissing Values:\")\n",
    "print(df.isnull().sum())\n",
    "\n"
   ]
  }
 ],
 "metadata": {
  "kernelspec": {
   "display_name": "Python 3",
   "language": "python",
   "name": "python3"
  },
  "language_info": {
   "codemirror_mode": {
    "name": "ipython",
    "version": 3
   },
   "file_extension": ".py",
   "mimetype": "text/x-python",
   "name": "python",
   "nbconvert_exporter": "python",
   "pygments_lexer": "ipython3",
   "version": "3.12.5"
  }
 },
 "nbformat": 4,
 "nbformat_minor": 5
}
